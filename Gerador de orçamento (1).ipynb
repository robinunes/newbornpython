{
 "cells": [
  {
   "cell_type": "markdown",
   "id": "8501415b",
   "metadata": {},
   "source": [
    "# Gerador de Orçamento"
   ]
  },
  {
   "cell_type": "markdown",
   "id": "cf0aa61b",
   "metadata": {},
   "source": [
    "Primeiramente é necessário entrar com os dados do programa, para tanto utiliza-se o input."
   ]
  },
  {
   "cell_type": "code",
   "execution_count": null,
   "id": "76c4c451",
   "metadata": {},
   "outputs": [],
   "source": [
    "input (\"Digite a descrição do projeto\")"
   ]
  },
  {
   "cell_type": "code",
   "execution_count": null,
   "id": "3fd15017",
   "metadata": {},
   "outputs": [],
   "source": [
    "input (\"Digite  a quantidade de horas estimadas\")"
   ]
  },
  {
   "cell_type": "code",
   "execution_count": null,
   "id": "f9de79e4",
   "metadata": {},
   "outputs": [],
   "source": [
    "input (\"Digite o valor da hora trabalhada\")"
   ]
  },
  {
   "cell_type": "code",
   "execution_count": null,
   "id": "4b5da468",
   "metadata": {},
   "outputs": [],
   "source": [
    "input (\"Digite o prazo para entrega\")"
   ]
  },
  {
   "cell_type": "markdown",
   "id": "60c72bcf",
   "metadata": {},
   "source": [
    "Para  armazenar os dados é preciso criar as variáveis"
   ]
  },
  {
   "cell_type": "code",
   "execution_count": null,
   "id": "d1fd1503",
   "metadata": {},
   "outputs": [],
   "source": [
    "Projeto = input (\"Digite a descrição do projeto\")"
   ]
  },
  {
   "cell_type": "code",
   "execution_count": null,
   "id": "13fde58f",
   "metadata": {},
   "outputs": [],
   "source": [
    "Horas_Estimadas = input (\"Digite a quantidade de horas estimadas\")"
   ]
  },
  {
   "cell_type": "code",
   "execution_count": null,
   "id": "79ce8711",
   "metadata": {},
   "outputs": [],
   "source": [
    "Valor_Hora = input (\"Digite o valor da hora trabalhada\")"
   ]
  },
  {
   "cell_type": "code",
   "execution_count": null,
   "id": "6c872fff",
   "metadata": {},
   "outputs": [],
   "source": [
    "Prazo = input (\"Digite o prazo para entrega\")"
   ]
  },
  {
   "cell_type": "markdown",
   "id": "1af6f04e",
   "metadata": {},
   "source": [
    "Nesta etapa, codificamos o cálculo do orçamento, isto é, horas estimadas * valor hora. Para tanto é necessário transformar o tipo dessas variáveis de str para int."
   ]
  },
  {
   "cell_type": "code",
   "execution_count": null,
   "id": "2f49686d",
   "metadata": {},
   "outputs": [],
   "source": [
    "print (int (Horas_Estimadas) * int (Valor_Hora))"
   ]
  },
  {
   "cell_type": "code",
   "execution_count": null,
   "id": "e944b142",
   "metadata": {},
   "outputs": [],
   "source": [
    "Valor_Total = int (Horas_Estimadas) * int (Valor_Hora)"
   ]
  },
  {
   "cell_type": "code",
   "execution_count": null,
   "id": "28770f8d",
   "metadata": {},
   "outputs": [],
   "source": [
    "print (Valor_Total)"
   ]
  },
  {
   "cell_type": "markdown",
   "id": "5585ffcc",
   "metadata": {},
   "source": [
    "A próxima etapa é a criação do PDF com as informações alocadas no programa. Para tanto é necessário instalar no programa a biblioteca FPDF, e estabelecer os eixos das informações printadas no pdf, nas dimensões exatas do template utilizado para enviar ao cliente."
   ]
  },
  {
   "cell_type": "code",
   "execution_count": null,
   "id": "0b70df21",
   "metadata": {},
   "outputs": [],
   "source": [
    "print(\"Orçamento gerado com sucesso\")"
   ]
  }
 ],
 "metadata": {
  "kernelspec": {
   "display_name": "Python 3 (ipykernel)",
   "language": "python",
   "name": "python3"
  },
  "language_info": {
   "codemirror_mode": {
    "name": "ipython",
    "version": 3
   },
   "file_extension": ".py",
   "mimetype": "text/x-python",
   "name": "python",
   "nbconvert_exporter": "python",
   "pygments_lexer": "ipython3",
   "version": "3.9.12"
  }
 },
 "nbformat": 4,
 "nbformat_minor": 5
}
