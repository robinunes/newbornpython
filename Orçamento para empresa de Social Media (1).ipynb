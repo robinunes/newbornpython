{
 "cells": [
  {
   "cell_type": "markdown",
   "id": "b2895e1b",
   "metadata": {},
   "source": [
    "# Orçamento para empresa de Social Media"
   ]
  },
  {
   "cell_type": "markdown",
   "id": "ec16325e",
   "metadata": {},
   "source": [
    "1- Na primeira etapa de código, estipulo os dados de entrada do programa e reserve-os em variáveis."
   ]
  },
  {
   "cell_type": "code",
   "execution_count": 1,
   "id": "54873781",
   "metadata": {},
   "outputs": [
    {
     "name": "stdout",
     "output_type": "stream",
     "text": [
      "Digite a descrição do projeto: Gestão da página \"A Doce Virginia\" no instagram\n"
     ]
    }
   ],
   "source": [
    "projeto = input (\"Digite a descrição do projeto: \")"
   ]
  },
  {
   "cell_type": "code",
   "execution_count": 2,
   "id": "bd3b7f7f",
   "metadata": {},
   "outputs": [
    {
     "name": "stdout",
     "output_type": "stream",
     "text": [
      "Digite o total de horas estimadas: 90\n"
     ]
    }
   ],
   "source": [
    "horas_estimadas = input (\"Digite o total de horas estimadas: \")"
   ]
  },
  {
   "cell_type": "code",
   "execution_count": 3,
   "id": "31802689",
   "metadata": {},
   "outputs": [
    {
     "name": "stdout",
     "output_type": "stream",
     "text": [
      "Digite o valor da hora trabalhada: 50\n"
     ]
    }
   ],
   "source": [
    "valor_hora = input (\"Digite o valor da hora trabalhada: \")"
   ]
  },
  {
   "cell_type": "code",
   "execution_count": 4,
   "id": "10b72cde",
   "metadata": {},
   "outputs": [
    {
     "name": "stdout",
     "output_type": "stream",
     "text": [
      "Digite o prazo estimado para entrega: 30\n"
     ]
    }
   ],
   "source": [
    "prazo_estimado = input (\"Digite o prazo estimado para entrega: \")"
   ]
  },
  {
   "cell_type": "markdown",
   "id": "90c6d983",
   "metadata": {},
   "source": [
    "2- Na segunda etapa, crie os cálculos a serem gerados no orçamento, isto é, horas_estimadas * valor_hora. Para tanto transforme o tipo das variáveis de str para int e reserve o resultado em uma variável do valor total estimado. Imprima na tela o valor total estimado."
   ]
  },
  {
   "cell_type": "code",
   "execution_count": 5,
   "id": "422badf6",
   "metadata": {},
   "outputs": [],
   "source": [
    "valor_total_estimado = int (horas_estimadas) * int (valor_hora) "
   ]
  },
  {
   "cell_type": "code",
   "execution_count": 6,
   "id": "5dec5141",
   "metadata": {},
   "outputs": [
    {
     "name": "stdout",
     "output_type": "stream",
     "text": [
      "4500\n"
     ]
    }
   ],
   "source": [
    "print (valor_total_estimado)"
   ]
  },
  {
   "cell_type": "markdown",
   "id": "8e5c7139",
   "metadata": {},
   "source": [
    "3- A próxima etapa é gerar o pdf. Para tanto, baixe a biblioteca do FPDF no programa. Após imprimiremos as informações do programa em um template no pdf, para ser adequadamente enviado ao cliente. A alocação das informações no template, demanda a correta impressão dos termos nos eixos adequados."
   ]
  },
  {
   "cell_type": "code",
   "execution_count": 7,
   "id": "e35487b9",
   "metadata": {},
   "outputs": [
    {
     "name": "stdout",
     "output_type": "stream",
     "text": [
      "Requirement already satisfied: fpdf in c:\\users\\bifae\\anaconda3\\lib\\site-packages (1.7.2)\n"
     ]
    }
   ],
   "source": [
    "!pip install fpdf"
   ]
  },
  {
   "cell_type": "markdown",
   "id": "fda4d69f",
   "metadata": {},
   "source": [
    "Importando a biblioteca:"
   ]
  },
  {
   "cell_type": "code",
   "execution_count": 8,
   "id": "362a36a4",
   "metadata": {},
   "outputs": [],
   "source": [
    "from fpdf import FPDF"
   ]
  },
  {
   "cell_type": "markdown",
   "id": "18cbea75",
   "metadata": {},
   "source": [
    "4- Criando o arquivo PDF:"
   ]
  },
  {
   "cell_type": "code",
   "execution_count": 9,
   "id": "f1b41277",
   "metadata": {},
   "outputs": [],
   "source": [
    "pdf = FPDF()\n",
    "pdf.add_page()\n",
    "pdf.set_font(\"Arial\")"
   ]
  },
  {
   "cell_type": "markdown",
   "id": "6ec7d4bc",
   "metadata": {},
   "source": [
    "5- Ultilizando o template e inserindo os dados no arquivo:"
   ]
  },
  {
   "cell_type": "code",
   "execution_count": 10,
   "id": "51d19983",
   "metadata": {},
   "outputs": [],
   "source": [
    "pdf.image(\"template_social_rm.png\", x=0, y=0)\n",
    "pdf.text(115, 145, projeto)\n",
    "pdf.text(115, 160, horas_estimadas)\n",
    "pdf.text(115, 175, valor_hora)\n",
    "pdf.text(115, 190, prazo_estimado)\n",
    "pdf.text(115, 205, str(valor_total_estimado))"
   ]
  },
  {
   "cell_type": "markdown",
   "id": "15c5d977",
   "metadata": {},
   "source": [
    "6- Salvando o arquivo:"
   ]
  },
  {
   "cell_type": "code",
   "execution_count": 11,
   "id": "5cdb4ac8",
   "metadata": {},
   "outputs": [
    {
     "name": "stdout",
     "output_type": "stream",
     "text": [
      "Orçamento Gerado com Sucesso\n"
     ]
    }
   ],
   "source": [
    "pdf.output (\"orçamento_social_media.pdf\")\n",
    "print (\"Orçamento Gerado com Sucesso\")"
   ]
  },
  {
   "cell_type": "code",
   "execution_count": null,
   "id": "c205b9d6",
   "metadata": {},
   "outputs": [],
   "source": []
  },
  {
   "cell_type": "code",
   "execution_count": null,
   "id": "9cbf3341",
   "metadata": {},
   "outputs": [],
   "source": []
  }
 ],
 "metadata": {
  "kernelspec": {
   "display_name": "Python 3 (ipykernel)",
   "language": "python",
   "name": "python3"
  },
  "language_info": {
   "codemirror_mode": {
    "name": "ipython",
    "version": 3
   },
   "file_extension": ".py",
   "mimetype": "text/x-python",
   "name": "python",
   "nbconvert_exporter": "python",
   "pygments_lexer": "ipython3",
   "version": "3.9.12"
  }
 },
 "nbformat": 4,
 "nbformat_minor": 5
}
