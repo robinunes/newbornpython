{
 "cells": [
  {
   "cell_type": "markdown",
   "id": "519b5942",
   "metadata": {},
   "source": [
    "# Analise de dados de 70 mil linhas"
   ]
  },
  {
   "cell_type": "markdown",
   "id": "0b510f8c",
   "metadata": {},
   "source": [
    "Primeiramente é preciso importar a biblioteca pandas. O \"import as\" permite renomear a biblioteca, para maior agilidade do código"
   ]
  },
  {
   "cell_type": "code",
   "execution_count": 1,
   "id": "002ab77b",
   "metadata": {},
   "outputs": [],
   "source": [
    "import pandas as pd"
   ]
  },
  {
   "cell_type": "markdown",
   "id": "0686c1ac",
   "metadata": {},
   "source": [
    "A Biblioteca Panda é encarregada de ler o excel com os dados a serem analisados"
   ]
  },
  {
   "cell_type": "code",
   "execution_count": 2,
   "id": "b135775f",
   "metadata": {},
   "outputs": [],
   "source": [
    "dados = pd.read_excel(\"vendas.xlsx\")"
   ]
  },
  {
   "cell_type": "code",
   "execution_count": 3,
   "id": "15566c97",
   "metadata": {},
   "outputs": [
    {
     "data": {
      "text/html": [
       "<div>\n",
       "<style scoped>\n",
       "    .dataframe tbody tr th:only-of-type {\n",
       "        vertical-align: middle;\n",
       "    }\n",
       "\n",
       "    .dataframe tbody tr th {\n",
       "        vertical-align: top;\n",
       "    }\n",
       "\n",
       "    .dataframe thead th {\n",
       "        text-align: right;\n",
       "    }\n",
       "</style>\n",
       "<table border=\"1\" class=\"dataframe\">\n",
       "  <thead>\n",
       "    <tr style=\"text-align: right;\">\n",
       "      <th></th>\n",
       "      <th>id_pedido</th>\n",
       "      <th>data</th>\n",
       "      <th>loja</th>\n",
       "      <th>cidade</th>\n",
       "      <th>estado</th>\n",
       "      <th>regiao</th>\n",
       "      <th>tamanho</th>\n",
       "      <th>local_consumo</th>\n",
       "      <th>preco</th>\n",
       "      <th>forma_pagamento</th>\n",
       "      <th>ano_mes</th>\n",
       "    </tr>\n",
       "  </thead>\n",
       "  <tbody>\n",
       "    <tr>\n",
       "      <th>0</th>\n",
       "      <td>PED1</td>\n",
       "      <td>2021-06-21</td>\n",
       "      <td>Loja 4</td>\n",
       "      <td>Santos</td>\n",
       "      <td>São Paulo</td>\n",
       "      <td>Sudeste</td>\n",
       "      <td>200ml</td>\n",
       "      <td>Delivery</td>\n",
       "      <td>5</td>\n",
       "      <td>Crédito</td>\n",
       "      <td>2021-06</td>\n",
       "    </tr>\n",
       "    <tr>\n",
       "      <th>1</th>\n",
       "      <td>PED2</td>\n",
       "      <td>2021-04-17</td>\n",
       "      <td>Loja 2</td>\n",
       "      <td>Niterói</td>\n",
       "      <td>Rio de Janeiro</td>\n",
       "      <td>Sudeste</td>\n",
       "      <td>200ml</td>\n",
       "      <td>Consumo no local</td>\n",
       "      <td>5</td>\n",
       "      <td>Pix</td>\n",
       "      <td>2021-04</td>\n",
       "    </tr>\n",
       "    <tr>\n",
       "      <th>2</th>\n",
       "      <td>PED3</td>\n",
       "      <td>2022-12-12</td>\n",
       "      <td>Loja 1</td>\n",
       "      <td>Fortaleza</td>\n",
       "      <td>Ceará</td>\n",
       "      <td>Nordeste</td>\n",
       "      <td>500ml</td>\n",
       "      <td>Delivery</td>\n",
       "      <td>9</td>\n",
       "      <td>Pix</td>\n",
       "      <td>2022-12</td>\n",
       "    </tr>\n",
       "    <tr>\n",
       "      <th>3</th>\n",
       "      <td>PED4</td>\n",
       "      <td>2022-03-09</td>\n",
       "      <td>Loja 2</td>\n",
       "      <td>Niterói</td>\n",
       "      <td>Rio de Janeiro</td>\n",
       "      <td>Sudeste</td>\n",
       "      <td>300ml</td>\n",
       "      <td>Consumo no local</td>\n",
       "      <td>7</td>\n",
       "      <td>Débito</td>\n",
       "      <td>2022-03</td>\n",
       "    </tr>\n",
       "    <tr>\n",
       "      <th>4</th>\n",
       "      <td>PED5</td>\n",
       "      <td>2022-11-28</td>\n",
       "      <td>Loja 4</td>\n",
       "      <td>Santos</td>\n",
       "      <td>São Paulo</td>\n",
       "      <td>Sudeste</td>\n",
       "      <td>700ml</td>\n",
       "      <td>Delivery</td>\n",
       "      <td>11</td>\n",
       "      <td>Débito</td>\n",
       "      <td>2022-11</td>\n",
       "    </tr>\n",
       "  </tbody>\n",
       "</table>\n",
       "</div>"
      ],
      "text/plain": [
       "  id_pedido       data    loja     cidade          estado    regiao tamanho  \\\n",
       "0      PED1 2021-06-21  Loja 4     Santos       São Paulo   Sudeste   200ml   \n",
       "1      PED2 2021-04-17  Loja 2    Niterói  Rio de Janeiro   Sudeste   200ml   \n",
       "2      PED3 2022-12-12  Loja 1  Fortaleza           Ceará  Nordeste   500ml   \n",
       "3      PED4 2022-03-09  Loja 2    Niterói  Rio de Janeiro   Sudeste   300ml   \n",
       "4      PED5 2022-11-28  Loja 4     Santos       São Paulo   Sudeste   700ml   \n",
       "\n",
       "      local_consumo  preco forma_pagamento  ano_mes  \n",
       "0          Delivery      5         Crédito  2021-06  \n",
       "1  Consumo no local      5             Pix  2021-04  \n",
       "2          Delivery      9             Pix  2022-12  \n",
       "3  Consumo no local      7          Débito  2022-03  \n",
       "4          Delivery     11          Débito  2022-11  "
      ]
     },
     "execution_count": 3,
     "metadata": {},
     "output_type": "execute_result"
    }
   ],
   "source": [
    "dados.head()"
   ]
  },
  {
   "cell_type": "code",
   "execution_count": 4,
   "id": "0dba141f",
   "metadata": {},
   "outputs": [
    {
     "data": {
      "text/plain": [
       "(70000, 11)"
      ]
     },
     "execution_count": 4,
     "metadata": {},
     "output_type": "execute_result"
    }
   ],
   "source": [
    "dados.shape"
   ]
  },
  {
   "cell_type": "code",
   "execution_count": 5,
   "id": "95b36f29",
   "metadata": {},
   "outputs": [
    {
     "data": {
      "text/plain": [
       "<bound method DataFrame.info of       id_pedido       data    loja         cidade          estado    regiao  \\\n",
       "0          PED1 2021-06-21  Loja 4         Santos       São Paulo   Sudeste   \n",
       "1          PED2 2021-04-17  Loja 2        Niterói  Rio de Janeiro   Sudeste   \n",
       "2          PED3 2022-12-12  Loja 1      Fortaleza           Ceará  Nordeste   \n",
       "3          PED4 2022-03-09  Loja 2        Niterói  Rio de Janeiro   Sudeste   \n",
       "4          PED5 2022-11-28  Loja 4         Santos       São Paulo   Sudeste   \n",
       "...         ...        ...     ...            ...             ...       ...   \n",
       "69995  PED69996 2020-12-03  Loja 5      São Paulo       São Paulo   Sudeste   \n",
       "69996  PED69997 2021-06-01  Loja 6  Florianópolis  Santa Catarina       Sul   \n",
       "69997  PED69998 2022-07-14  Loja 6  Florianópolis  Santa Catarina       Sul   \n",
       "69998  PED69999 2021-06-01  Loja 6  Florianópolis  Santa Catarina       Sul   \n",
       "69999  PED70000 2022-07-10  Loja 2        Niterói  Rio de Janeiro   Sudeste   \n",
       "\n",
       "      tamanho     local_consumo  preco forma_pagamento  ano_mes  \n",
       "0       200ml          Delivery      5         Crédito  2021-06  \n",
       "1       200ml  Consumo no local      5             Pix  2021-04  \n",
       "2       500ml          Delivery      9             Pix  2022-12  \n",
       "3       300ml  Consumo no local      7          Débito  2022-03  \n",
       "4       700ml          Delivery     11          Débito  2022-11  \n",
       "...       ...               ...    ...             ...      ...  \n",
       "69995   300ml  Consumo no local      7        Dinheiro  2020-12  \n",
       "69996   700ml  Consumo no local     11             Pix  2021-06  \n",
       "69997   700ml          Delivery     11        Dinheiro  2022-07  \n",
       "69998   500ml  Consumo no local      9             Pix  2021-06  \n",
       "69999   700ml  Consumo no local     11        Dinheiro  2022-07  \n",
       "\n",
       "[70000 rows x 11 columns]>"
      ]
     },
     "execution_count": 5,
     "metadata": {},
     "output_type": "execute_result"
    }
   ],
   "source": [
    "dados.info"
   ]
  },
  {
   "cell_type": "code",
   "execution_count": 6,
   "id": "a05c808b",
   "metadata": {},
   "outputs": [
    {
     "data": {
      "text/plain": [
       "<bound method NDFrame.describe of       id_pedido       data    loja         cidade          estado    regiao  \\\n",
       "0          PED1 2021-06-21  Loja 4         Santos       São Paulo   Sudeste   \n",
       "1          PED2 2021-04-17  Loja 2        Niterói  Rio de Janeiro   Sudeste   \n",
       "2          PED3 2022-12-12  Loja 1      Fortaleza           Ceará  Nordeste   \n",
       "3          PED4 2022-03-09  Loja 2        Niterói  Rio de Janeiro   Sudeste   \n",
       "4          PED5 2022-11-28  Loja 4         Santos       São Paulo   Sudeste   \n",
       "...         ...        ...     ...            ...             ...       ...   \n",
       "69995  PED69996 2020-12-03  Loja 5      São Paulo       São Paulo   Sudeste   \n",
       "69996  PED69997 2021-06-01  Loja 6  Florianópolis  Santa Catarina       Sul   \n",
       "69997  PED69998 2022-07-14  Loja 6  Florianópolis  Santa Catarina       Sul   \n",
       "69998  PED69999 2021-06-01  Loja 6  Florianópolis  Santa Catarina       Sul   \n",
       "69999  PED70000 2022-07-10  Loja 2        Niterói  Rio de Janeiro   Sudeste   \n",
       "\n",
       "      tamanho     local_consumo  preco forma_pagamento  ano_mes  \n",
       "0       200ml          Delivery      5         Crédito  2021-06  \n",
       "1       200ml  Consumo no local      5             Pix  2021-04  \n",
       "2       500ml          Delivery      9             Pix  2022-12  \n",
       "3       300ml  Consumo no local      7          Débito  2022-03  \n",
       "4       700ml          Delivery     11          Débito  2022-11  \n",
       "...       ...               ...    ...             ...      ...  \n",
       "69995   300ml  Consumo no local      7        Dinheiro  2020-12  \n",
       "69996   700ml  Consumo no local     11             Pix  2021-06  \n",
       "69997   700ml          Delivery     11        Dinheiro  2022-07  \n",
       "69998   500ml  Consumo no local      9             Pix  2021-06  \n",
       "69999   700ml  Consumo no local     11        Dinheiro  2022-07  \n",
       "\n",
       "[70000 rows x 11 columns]>"
      ]
     },
     "execution_count": 6,
     "metadata": {},
     "output_type": "execute_result"
    }
   ],
   "source": [
    "dados.describe"
   ]
  },
  {
   "cell_type": "code",
   "execution_count": 7,
   "id": "8020a93c",
   "metadata": {},
   "outputs": [
    {
     "data": {
      "text/plain": [
       "0        Loja 4\n",
       "1        Loja 2\n",
       "2        Loja 1\n",
       "3        Loja 2\n",
       "4        Loja 4\n",
       "          ...  \n",
       "69995    Loja 5\n",
       "69996    Loja 6\n",
       "69997    Loja 6\n",
       "69998    Loja 6\n",
       "69999    Loja 2\n",
       "Name: loja, Length: 70000, dtype: object"
      ]
     },
     "execution_count": 7,
     "metadata": {},
     "output_type": "execute_result"
    }
   ],
   "source": [
    "dados ['loja']"
   ]
  },
  {
   "cell_type": "code",
   "execution_count": 8,
   "id": "4c5a5af9",
   "metadata": {},
   "outputs": [
    {
     "data": {
      "text/plain": [
       "array(['Loja 4', 'Loja 2', 'Loja 1', 'Loja 6', 'Loja 3', 'Loja 5'],\n",
       "      dtype=object)"
      ]
     },
     "execution_count": 8,
     "metadata": {},
     "output_type": "execute_result"
    }
   ],
   "source": [
    "dados['loja'].unique()"
   ]
  },
  {
   "cell_type": "code",
   "execution_count": 9,
   "id": "b42366a1",
   "metadata": {},
   "outputs": [
    {
     "data": {
      "text/plain": [
       "Loja 6    16648\n",
       "Loja 3    12367\n",
       "Loja 1    12344\n",
       "Loja 5    12177\n",
       "Loja 2     8318\n",
       "Loja 4     8146\n",
       "Name: loja, dtype: int64"
      ]
     },
     "execution_count": 9,
     "metadata": {},
     "output_type": "execute_result"
    }
   ],
   "source": [
    "dados['loja'].value_counts()"
   ]
  },
  {
   "cell_type": "code",
   "execution_count": 10,
   "id": "5c649354",
   "metadata": {},
   "outputs": [
    {
     "data": {
      "text/plain": [
       "Loja 6    0.237829\n",
       "Loja 3    0.176671\n",
       "Loja 1    0.176343\n",
       "Loja 5    0.173957\n",
       "Loja 2    0.118829\n",
       "Loja 4    0.116371\n",
       "Name: loja, dtype: float64"
      ]
     },
     "execution_count": 10,
     "metadata": {},
     "output_type": "execute_result"
    }
   ],
   "source": [
    "dados['loja'].value_counts(normalize=True)"
   ]
  },
  {
   "cell_type": "code",
   "execution_count": 11,
   "id": "839b99d4",
   "metadata": {},
   "outputs": [
    {
     "data": {
      "text/html": [
       "<div>\n",
       "<style scoped>\n",
       "    .dataframe tbody tr th:only-of-type {\n",
       "        vertical-align: middle;\n",
       "    }\n",
       "\n",
       "    .dataframe tbody tr th {\n",
       "        vertical-align: top;\n",
       "    }\n",
       "\n",
       "    .dataframe thead th {\n",
       "        text-align: right;\n",
       "    }\n",
       "</style>\n",
       "<table border=\"1\" class=\"dataframe\">\n",
       "  <thead>\n",
       "    <tr style=\"text-align: right;\">\n",
       "      <th></th>\n",
       "      <th>preco</th>\n",
       "    </tr>\n",
       "    <tr>\n",
       "      <th>loja</th>\n",
       "      <th></th>\n",
       "    </tr>\n",
       "  </thead>\n",
       "  <tbody>\n",
       "    <tr>\n",
       "      <th>Loja 1</th>\n",
       "      <td>111042</td>\n",
       "    </tr>\n",
       "    <tr>\n",
       "      <th>Loja 2</th>\n",
       "      <td>74700</td>\n",
       "    </tr>\n",
       "    <tr>\n",
       "      <th>Loja 3</th>\n",
       "      <td>111709</td>\n",
       "    </tr>\n",
       "    <tr>\n",
       "      <th>Loja 4</th>\n",
       "      <td>73598</td>\n",
       "    </tr>\n",
       "    <tr>\n",
       "      <th>Loja 5</th>\n",
       "      <td>109393</td>\n",
       "    </tr>\n",
       "    <tr>\n",
       "      <th>Loja 6</th>\n",
       "      <td>150228</td>\n",
       "    </tr>\n",
       "  </tbody>\n",
       "</table>\n",
       "</div>"
      ],
      "text/plain": [
       "         preco\n",
       "loja          \n",
       "Loja 1  111042\n",
       "Loja 2   74700\n",
       "Loja 3  111709\n",
       "Loja 4   73598\n",
       "Loja 5  109393\n",
       "Loja 6  150228"
      ]
     },
     "execution_count": 11,
     "metadata": {},
     "output_type": "execute_result"
    }
   ],
   "source": [
    "dados.groupby('loja').sum()"
   ]
  },
  {
   "cell_type": "code",
   "execution_count": 12,
   "id": "e434ed6b",
   "metadata": {},
   "outputs": [
    {
     "data": {
      "text/html": [
       "<div>\n",
       "<style scoped>\n",
       "    .dataframe tbody tr th:only-of-type {\n",
       "        vertical-align: middle;\n",
       "    }\n",
       "\n",
       "    .dataframe tbody tr th {\n",
       "        vertical-align: top;\n",
       "    }\n",
       "\n",
       "    .dataframe thead th {\n",
       "        text-align: right;\n",
       "    }\n",
       "</style>\n",
       "<table border=\"1\" class=\"dataframe\">\n",
       "  <thead>\n",
       "    <tr style=\"text-align: right;\">\n",
       "      <th></th>\n",
       "      <th>preco</th>\n",
       "    </tr>\n",
       "    <tr>\n",
       "      <th>loja</th>\n",
       "      <th></th>\n",
       "    </tr>\n",
       "  </thead>\n",
       "  <tbody>\n",
       "    <tr>\n",
       "      <th>Loja 1</th>\n",
       "      <td>8.995625</td>\n",
       "    </tr>\n",
       "    <tr>\n",
       "      <th>Loja 2</th>\n",
       "      <td>8.980524</td>\n",
       "    </tr>\n",
       "    <tr>\n",
       "      <th>Loja 3</th>\n",
       "      <td>9.032829</td>\n",
       "    </tr>\n",
       "    <tr>\n",
       "      <th>Loja 4</th>\n",
       "      <td>9.034864</td>\n",
       "    </tr>\n",
       "    <tr>\n",
       "      <th>Loja 5</th>\n",
       "      <td>8.983576</td>\n",
       "    </tr>\n",
       "    <tr>\n",
       "      <th>Loja 6</th>\n",
       "      <td>9.023787</td>\n",
       "    </tr>\n",
       "  </tbody>\n",
       "</table>\n",
       "</div>"
      ],
      "text/plain": [
       "           preco\n",
       "loja            \n",
       "Loja 1  8.995625\n",
       "Loja 2  8.980524\n",
       "Loja 3  9.032829\n",
       "Loja 4  9.034864\n",
       "Loja 5  8.983576\n",
       "Loja 6  9.023787"
      ]
     },
     "execution_count": 12,
     "metadata": {},
     "output_type": "execute_result"
    }
   ],
   "source": [
    "dados.groupby('loja').mean()"
   ]
  },
  {
   "cell_type": "code",
   "execution_count": null,
   "id": "87985a08",
   "metadata": {},
   "outputs": [],
   "source": []
  }
 ],
 "metadata": {
  "kernelspec": {
   "display_name": "Python 3 (ipykernel)",
   "language": "python",
   "name": "python3"
  },
  "language_info": {
   "codemirror_mode": {
    "name": "ipython",
    "version": 3
   },
   "file_extension": ".py",
   "mimetype": "text/x-python",
   "name": "python",
   "nbconvert_exporter": "python",
   "pygments_lexer": "ipython3",
   "version": "3.9.12"
  }
 },
 "nbformat": 4,
 "nbformat_minor": 5
}
